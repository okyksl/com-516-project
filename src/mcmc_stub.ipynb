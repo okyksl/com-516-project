{
 "cells": [
  {
   "cell_type": "markdown",
   "metadata": {
    "colab_type": "text",
    "id": "view-in-github"
   },
   "source": [
    "<a href=\"https://colab.research.google.com/github/antoinexp/markov-chains-COM-516/blob/main/model.ipynb\" target=\"_parent\"><img src=\"https://colab.research.google.com/assets/colab-badge.svg\" alt=\"Open In Colab\"/></a>"
   ]
  },
  {
   "cell_type": "code",
   "execution_count": 8,
   "metadata": {
    "id": "BMV_GyHTe-A5"
   },
   "outputs": [],
   "source": [
    "import scipy.stats as st\n",
    "import numpy as np\n",
    "import scipy as sp\n",
    "import matplotlib.pyplot as plt\n",
    "from geometry import find_max_dist_brute, find_max_dist"
   ]
  },
  {
   "cell_type": "code",
   "execution_count": 9,
   "metadata": {
    "id": "9_4LNOEAfb6H"
   },
   "outputs": [],
   "source": [
    "class DatasetGenerator(object):\n",
    "  def __init__(self, N=100):\n",
    "    self.N = N\n",
    "    self.x = None\n",
    "    self.v = None\n",
    "    self.refresh()\n",
    "  \n",
    "  def refresh(self):\n",
    "    raise Exception(\"undefined\")"
   ]
  },
  {
   "cell_type": "code",
   "execution_count": 3,
   "metadata": {
    "id": "69EQnzkcgxtb"
   },
   "outputs": [],
   "source": [
    "class G1(DatasetGenerator):\n",
    "  def refresh(self):\n",
    "    self.x = st.uniform().rvs((self.N,2))\n",
    "    self.v = st.uniform().rvs((self.N,))"
   ]
  },
  {
   "cell_type": "code",
   "execution_count": 4,
   "metadata": {
    "id": "NEPDqCflgzWe"
   },
   "outputs": [],
   "source": [
    "class G2(DatasetGenerator):\n",
    "  def refresh(self):\n",
    "    self.x = st.uniform().rvs((self.N,2))\n",
    "    self.v = np.exp(st.norm(-0.85, 1.3).rvs((self.N,)))"
   ]
  },
  {
   "cell_type": "code",
   "execution_count": 31,
   "metadata": {},
   "outputs": [],
   "source": [
    "g1 = G1()\n",
    "g2 = G2()"
   ]
  },
  {
   "cell_type": "code",
   "execution_count": 32,
   "metadata": {},
   "outputs": [],
   "source": [
    "class MCMCSolver: \n",
    "    def __init__(self, dataset,lmbd,beta = 0.1,eps=0.05):\n",
    "        self.dataset = dataset\n",
    "        self.state = np.random.binomial(1, 0, dataset.N).astype(bool) #randomly initialize state\n",
    "        self.lmbd = lmbd\n",
    "        self.beta = beta\n",
    "        self.eps = eps\n",
    "               \n",
    "    #code from solvers \n",
    "    def dist(self,pt1: np.ndarray, pt2: np.ndarray) -> np.float:\n",
    "        return np.linalg.norm(pt1 - pt2, ord=2)\n",
    "    \n",
    "    def objective(self):\n",
    "        #to use the functions from geometry.py\n",
    "        mask = self.dataset.x[self.state]\n",
    "        #return (self.state*self.dataset.v).sum() - self.lmbd*self.dataset.N*np.pi*(find_max_dist_brute(mask)/2)**2\n",
    "        return (self.state*self.dataset.v).sum() - self.lmbd*self.dataset.N*np.pi*(self.radius(self.state)/2)**2\n",
    "        \n",
    "    #compute the radius of the state\n",
    "    #direct computation, probably more clever way to compute radius difference\n",
    "    def radius(self,state):\n",
    "        best = 0\n",
    "        for k,i in enumerate(state):\n",
    "            if i > 0:\n",
    "                for l,j in enumerate(state):\n",
    "                    if j > 0:\n",
    "                        best = np.maximum(best,self.dist(self.dataset.x[k],self.dataset.x[l]))\n",
    "        return best\n",
    "    \n",
    "    def compute_diff(self,state_1,state_2,i):\n",
    "        diff_1 = (int(state_2[i]) - int(state_1[i]))*self.dataset.v[i]\n",
    "#         diff_2 = self.lmbd*self.dataset.N*np.pi*((self.radius(state_2)/2)**2-(self.radius(state_1)/2)**2)\n",
    "\n",
    "        #to use the functions from geometry.py\n",
    "        mask_1 = self.dataset.x[state_1]\n",
    "        mask_2 = self.dataset.x[state_2]\n",
    "        diff_2 = self.lmbd*self.dataset.N*np.pi*((find_max_dist_brute(mask_2)/2)**2-(find_max_dist_brute(mask_1)/2)**2)\n",
    "        return diff_1-diff_2\n",
    "\n",
    "    def acceptance_proba(self,diff,beta):\n",
    "        proba = np.exp(beta*diff)\n",
    "        return np.minimum(1.0,proba)\n",
    "    \n",
    "    #check overleaf for math writing\n",
    "    def update_beta(self,objectives):\n",
    "        #optim later\n",
    "        values = sorted(list(set(objectives)))\n",
    "        f0 = values[0]\n",
    "        f1 = values[1]\n",
    "        \n",
    "        N0 = objectives.count(f0)\n",
    "        N1 = objectives.count(f1)\n",
    "        update_b = (1/(f0-f1))*np.log(N1/(self.eps))\n",
    "        \n",
    "        if self.beta > update_b:\n",
    "            self.beta = update_b\n",
    "    \n",
    "    def solve(self,n_it):\n",
    "        print(\"Initial state:\",self.state)\n",
    "        n_states = []\n",
    "        objectives = []\n",
    "        for it in range(n_it):\n",
    "            #print(\"Iteration\",it)\n",
    "            next_state = self.state.copy()\n",
    "            \n",
    "            #flip one state at random\n",
    "            i = np.random.choice(self.dataset.N)\n",
    "            next_state[i] = True^next_state[i]\n",
    "                        \n",
    "            #update state with acceptance probability\n",
    "            diff = self.compute_diff(self.state, next_state,i)\n",
    "            if np.random.uniform() < self.acceptance_proba(diff, self.beta):\n",
    "                self.state = next_state\n",
    "            #print(self.state.sum())\n",
    "            #print()\n",
    "            \n",
    "            #record number of states and objective for plotting, as per project description\n",
    "            if (it % 1) == 0:\n",
    "                n_states.append(self.state.sum())\n",
    "                objectives.append(self.objective())\n",
    "                \n",
    "            #beta scheduling    \n",
    "#             if ((it % 500) == 0) and (it > 0):\n",
    "#                 self.beta = self.beta*5  \n",
    "            if ((it % 500) == 0) and (it > 0):\n",
    "                update_beta()\n",
    "            \n",
    "        \n",
    "        print(\"Final state:\",self.state)\n",
    "        return n_states,objectives"
   ]
  },
  {
   "cell_type": "code",
   "execution_count": 33,
   "metadata": {
    "scrolled": true
   },
   "outputs": [
    {
     "name": "stdout",
     "output_type": "stream",
     "text": [
      "Initial state: [False False False False False False False False False False False False\n",
      " False False False False False False False False False False False False\n",
      " False False False False False False False False False False False False\n",
      " False False False False False False False False False False False False\n",
      " False False False False False False False False False False False False\n",
      " False False False False False False False False False False False False\n",
      " False False False False False False False False False False False False\n",
      " False False False False False False False False False False False False\n",
      " False False False False]\n",
      "Final state: [False  True  True  True  True  True  True  True False  True  True  True\n",
      "  True  True  True  True  True  True  True  True False  True  True  True\n",
      " False  True False  True  True  True  True  True  True  True  True  True\n",
      "  True  True  True  True  True  True  True  True  True  True False  True\n",
      "  True False  True  True  True  True False False  True False  True  True\n",
      "  True  True  True  True  True  True False False False  True  True  True\n",
      "  True  True  True  True  True  True  True False  True  True  True  True\n",
      "  True  True  True  True  True  True  True  True False  True  True  True\n",
      "  True  True  True  True]\n"
     ]
    }
   ],
   "source": [
    "mcmc = MCMCSolver(dataset = g1, lmbd = 0,beta = 1)\n",
    "n_states, objectives = mcmc.solve(n_it = 1000)"
   ]
  },
  {
   "cell_type": "code",
   "execution_count": 34,
   "metadata": {},
   "outputs": [
    {
     "data": {
      "text/plain": [
       "[<matplotlib.lines.Line2D at 0x7fb98cfda910>]"
      ]
     },
     "execution_count": 34,
     "metadata": {},
     "output_type": "execute_result"
    },
    {
     "data": {
      "image/png": "[encoded data removed]",
      "text/plain": [
       "<Figure size 432x288 with 1 Axes>"
      ]
     },
     "metadata": {
      "needs_background": "light"
     },
     "output_type": "display_data"
    }
   ],
   "source": [
    "import matplotlib.pyplot as plt\n",
    "%matplotlib inline\n",
    "plt.plot(n_states) "
   ]
  },
  {
   "cell_type": "code",
   "execution_count": 38,
   "metadata": {},
   "outputs": [
    {
     "name": "stdout",
     "output_type": "stream",
     "text": [
      "43.07730389302589\n"
     ]
    },
    {
     "data": {
      "image/png": "[encoded data removed]",
      "text/plain": [
       "<Figure size 432x288 with 1 Axes>"
      ]
     },
     "metadata": {
      "needs_background": "light"
     },
     "output_type": "display_data"
    }
   ],
   "source": [
    "plt.plot(objectives)\n",
    "print(max(objectives))"
   ]
  },
  {
   "cell_type": "code",
   "execution_count": null,
   "metadata": {},
   "outputs": [],
   "source": []
  },
  {
   "cell_type": "code",
   "execution_count": null,
   "metadata": {},
   "outputs": [],
   "source": []
  }
 ],
 "metadata": {
  "colab": {
   "authorship_tag": "ABX9TyMHjD1LWevMEBRvKxj7qq4T",
   "collapsed_sections": [],
   "include_colab_link": true,
   "name": "model.ipynb",
   "provenance": []
  },
  "kernelspec": {
   "display_name": "Python 3",
   "language": "python",
   "name": "python3"
  },
  "language_info": {
   "codemirror_mode": {
    "name": "ipython",
    "version": 3
   },
   "file_extension": ".py",
   "mimetype": "text/x-python",
   "name": "python",
   "nbconvert_exporter": "python",
   "pygments_lexer": "ipython3",
   "version": "3.8.5"
  }
 },
 "nbformat": 4,
 "nbformat_minor": 1
}
