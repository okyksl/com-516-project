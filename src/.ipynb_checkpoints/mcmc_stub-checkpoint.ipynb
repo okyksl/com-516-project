{
 "cells": [
  {
   "cell_type": "markdown",
   "metadata": {
    "colab_type": "text",
    "id": "view-in-github"
   },
   "source": [
    "<a href=\"https://colab.research.google.com/github/antoinexp/markov-chains-COM-516/blob/main/model.ipynb\" target=\"_parent\"><img src=\"https://colab.research.google.com/assets/colab-badge.svg\" alt=\"Open In Colab\"/></a>"
   ]
  },
  {
   "cell_type": "code",
   "execution_count": 139,
   "metadata": {
    "id": "BMV_GyHTe-A5"
   },
   "outputs": [],
   "source": [
    "import scipy.stats as st\n",
    "import numpy as np\n",
    "import scipy as sp\n",
    "import matplotlib.pyplot as plt\n",
    "from geometry import find_max_dist_brute, find_max_dist"
   ]
  },
  {
   "cell_type": "code",
   "execution_count": 140,
   "metadata": {
    "id": "9_4LNOEAfb6H"
   },
   "outputs": [],
   "source": [
    "class DatasetGenerator(object):\n",
    "  def __init__(self, N=100):\n",
    "    self.N = N\n",
    "    self.x = None\n",
    "    self.v = None\n",
    "    self.refresh()\n",
    "  \n",
    "  def refresh(self):\n",
    "    raise Exception(\"undefined\")"
   ]
  },
  {
   "cell_type": "code",
   "execution_count": 141,
   "metadata": {
    "id": "69EQnzkcgxtb"
   },
   "outputs": [],
   "source": [
    "class G1(DatasetGenerator):\n",
    "  def refresh(self):\n",
    "    self.x = st.uniform().rvs((self.N,2))\n",
    "    self.v = st.uniform().rvs((self.N,))"
   ]
  },
  {
   "cell_type": "code",
   "execution_count": 142,
   "metadata": {
    "id": "NEPDqCflgzWe"
   },
   "outputs": [],
   "source": [
    "class G2(DatasetGenerator):\n",
    "  def refresh(self):\n",
    "    self.x = st.uniform().rvs((self.N,2))\n",
    "    self.v = np.exp(st.norm(-0.85, 1.3).rvs((self.N,)))"
   ]
  },
  {
   "cell_type": "code",
   "execution_count": 166,
   "metadata": {},
   "outputs": [],
   "source": [
    "g1 = G1()\n",
    "g2 = G2()"
   ]
  },
  {
   "cell_type": "code",
   "execution_count": 303,
   "metadata": {},
   "outputs": [],
   "source": [
    "class MCMCSolver: \n",
    "    def __init__(self, dataset,lmbd,beta = 0.1):\n",
    "        self.dataset = dataset\n",
    "        self.state = np.random.binomial(1, 0.1, dataset.N).astype(bool) #randomly initialize state\n",
    "        self.lmbd = lmbd\n",
    "        self.beta = beta\n",
    "               \n",
    "    #code from solvers \n",
    "    def dist(self,pt1: np.ndarray, pt2: np.ndarray) -> np.float:\n",
    "        return np.linalg.norm(pt1 - pt2, ord=2)\n",
    "    \n",
    "    def objective(self):\n",
    "#         mask = self.dataset.x[self.state]\n",
    "#         return (self.state*self.dataset.v).sum() - self.lmbd*self.dataset.N*np.pi*(find_max_dist_brute(mask)/2)**2\n",
    "        return (self.state*self.dataset.v).sum() - self.lmbd*self.dataset.N*np.pi*(self.radius(self.state)/2)**2\n",
    "        \n",
    "    #compute the radius of the state\n",
    "    #direct computation, probably more clever way to compute radius difference\n",
    "    def radius(self,state):\n",
    "        best = 0\n",
    "        for k,i in enumerate(state):\n",
    "            if i > 0:\n",
    "                for l,j in enumerate(state):\n",
    "                    if j > 0:\n",
    "                        best = np.maximum(best,self.dist(self.dataset.x[k],self.dataset.x[l]))\n",
    "        return best\n",
    "    \n",
    "    def compute_diff(self,state_1,state_2,i):\n",
    "#         mask_1 = self.dataset.x[state_1]\n",
    "#         mask_2 = self.dataset.x[state_2]\n",
    "        diff = (int(state_2[i]) - int(state_1[i]))*self.dataset.v[i] \\\n",
    "        - self.lmbd*self.dataset.N*np.pi*((self.radius(state_2)/2)**2-(self.radius(state_1)/2)**2)\n",
    "#         - self.lmbd*self.dataset.N*np.pi*((find_max_dist_brute(mask_2)/2)**2-(find_max_dist_brute(mask_1)/2)**2)\n",
    "        return diff\n",
    "\n",
    "    def acceptance_proba(self,diff,beta):\n",
    "        proba = np.exp(beta*diff)\n",
    "        return np.minimum(1.0,proba)\n",
    "    \n",
    "    def solve(self,n_it):\n",
    "        print(\"Initial state:\",self.state)\n",
    "        n_states = []\n",
    "        objectives = []\n",
    "        for it in range(n_it):\n",
    "            next_state = self.state.copy()\n",
    "            \n",
    "            #flip one state at random\n",
    "            i = np.random.choice(self.dataset.N)\n",
    "            next_state[i] = True^next_state[i]\n",
    "                        \n",
    "            #update state with acceptance probability\n",
    "            diff = self.compute_diff(self.state, next_state,i)\n",
    "            if np.random.uniform() < self.acceptance_proba(diff, self.beta):\n",
    "                self.state = next_state\n",
    "            \n",
    "            #record number of states and objective for plotting, as per project description\n",
    "            if (it % 5) == 0:\n",
    "                n_states.append(self.state.sum())\n",
    "                objectives.append(self.objective())\n",
    "                \n",
    "            #beta scheduling    \n",
    "            if ((it % 500) == 0) and (it > 0):\n",
    "                self.beta = self.beta*10  \n",
    "        \n",
    "        print(\"Final state:\",self.state)\n",
    "        return n_states,objectives"
   ]
  },
  {
   "cell_type": "code",
   "execution_count": 304,
   "metadata": {
    "scrolled": true
   },
   "outputs": [
    {
     "name": "stdout",
     "output_type": "stream",
     "text": [
      "Initial state: [False False False False False False False False False False False False\n",
      " False False False False False False False False False False  True False\n",
      " False False False False False False False False False False False False\n",
      " False False False False False False  True False False False False  True\n",
      " False False False False False False False False False False False False\n",
      " False  True False False False False False False False  True False  True\n",
      " False False False False False False False False False False False False\n",
      " False False False False False False False False False False  True False\n",
      " False False False False]\n",
      "Final state: [False  True  True  True False False False  True False False False False\n",
      "  True False False  True False False False  True False  True False  True\n",
      "  True  True False False False False False False  True  True False False\n",
      " False False False False False False False False  True False False  True\n",
      " False  True False False  True  True  True False False  True  True  True\n",
      " False False  True False False False False False False False False  True\n",
      " False  True False False  True False False False False False False False\n",
      " False  True False False  True False False False False False  True False\n",
      " False  True  True  True]\n"
     ]
    }
   ],
   "source": [
    "mcmc = MCMCSolver(dataset = g2, lmbd = 2,beta = 1)\n",
    "n_states, objectives = mcmc.solve(n_it = 2000)"
   ]
  },
  {
   "cell_type": "code",
   "execution_count": 305,
   "metadata": {},
   "outputs": [
    {
     "data": {
      "text/plain": [
       "[<matplotlib.lines.Line2D at 0x21bcb51def0>]"
      ]
     },
     "execution_count": 305,
     "metadata": {},
     "output_type": "execute_result"
    },
    {
     "data": {
      "image/png": "[encoded data removed]",
      "text/plain": [
       "<Figure size 432x288 with 1 Axes>"
      ]
     },
     "metadata": {
      "needs_background": "light"
     },
     "output_type": "display_data"
    }
   ],
   "source": [
    "import matplotlib.pyplot as plt\n",
    "%matplotlib inline\n",
    "plt.plot(n_states) "
   ]
  },
  {
   "cell_type": "code",
   "execution_count": 306,
   "metadata": {},
   "outputs": [
    {
     "data": {
      "text/plain": [
       "[<matplotlib.lines.Line2D at 0x21bcb59ce80>]"
      ]
     },
     "execution_count": 306,
     "metadata": {},
     "output_type": "execute_result"
    },
    {
     "data": {
      "image/png": "[encoded data removed]",
      "text/plain": [
       "<Figure size 432x288 with 1 Axes>"
      ]
     },
     "metadata": {
      "needs_background": "light"
     },
     "output_type": "display_data"
    }
   ],
   "source": [
    "plt.plot(objectives)"
   ]
  },
  {
   "cell_type": "code",
   "execution_count": null,
   "metadata": {},
   "outputs": [],
   "source": []
  }
 ],
 "metadata": {
  "colab": {
   "authorship_tag": "ABX9TyMHjD1LWevMEBRvKxj7qq4T",
   "collapsed_sections": [],
   "include_colab_link": true,
   "name": "model.ipynb",
   "provenance": []
  },
  "kernelspec": {
   "display_name": "Python 3",
   "language": "python",
   "name": "python3"
  },
  "language_info": {
   "codemirror_mode": {
    "name": "ipython",
    "version": 3
   },
   "file_extension": ".py",
   "mimetype": "text/x-python",
   "name": "python",
   "nbconvert_exporter": "python",
   "pygments_lexer": "ipython3",
   "version": "3.7.3"
  }
 },
 "nbformat": 4,
 "nbformat_minor": 1
}
